{
 "cells": [
  {
   "cell_type": "code",
   "execution_count": 19,
   "metadata": {},
   "outputs": [],
   "source": [
    "import numpy as np\n",
    "import pandas as pd\n",
    "import matplotlib.pyplot as plt\n",
    "import pickle \n",
    "from queue import PriorityQueue\n",
    "from scipy.spatial.distance import cosine\n",
    "import gradio as gr\n",
    "\n",
    "from IPython.display import clear_output\n",
    "clear_output(wait=False)"
   ]
  },
  {
   "cell_type": "code",
   "execution_count": 20,
   "metadata": {},
   "outputs": [],
   "source": [
    "with open('output/anime_df.pkl', 'rb') as f:\n",
    "    anime_df = pickle.load(f)\n",
    "\n",
    "with open('output/user_df.pkl', 'rb') as f:\n",
    "    user_df = pickle.load(f)\n",
    "\n",
    "with open('output/anime_name_dict.pkl', 'rb') as f:\n",
    "    anime_dict = pickle.load(f)"
   ]
  },
  {
   "cell_type": "code",
   "execution_count": 57,
   "metadata": {},
   "outputs": [],
   "source": [
    "# def find_closest_by_intersection(df, new_list):\n",
    "#     #max_intersection_size = 0.6\n",
    "#     user_list=[]\n",
    "\n",
    "#     new_set = set(new_list)\n",
    "\n",
    "#     for _, row in df.iterrows():\n",
    "#         row_set = set(row['anime_id'])\n",
    "#         intersection_size = len(new_set.intersection(row_set))/len(new_set)\n",
    "\n",
    "\n",
    "#         user_que = PriorityQueue(maxsize=500)\n",
    "#         if user_que.full():\n",
    "#             user_que.get()\n",
    "#         user_que.put(((-1*intersection_size),row['user_id']))\n",
    "    \n",
    "#     print(user_que.get())\n",
    "    \n",
    "#     while user_que.empty==False:\n",
    "#         user_list.append(user_que.get()[1])\n",
    "\n",
    "#     return user_list"
   ]
  },
  {
   "cell_type": "code",
   "execution_count": null,
   "metadata": {},
   "outputs": [],
   "source": [
    "def find_closest_by_intersection(df, new_list):\n",
    "    max_intersection_size = 0.6\n",
    "    user_list=[]\n",
    "\n",
    "    new_set = set(new_list)\n",
    "\n",
    "    for _, row in df.iterrows():\n",
    "        row_set = set(row['anime_id'])\n",
    "        intersection_size = len(new_set.intersection(row_set))/len(new_set)\n",
    "\n",
    "\n",
    "        if intersection_size > max_intersection_size:\n",
    "            user_list.append(row['user_id'])\n",
    "\n",
    "    return user_list"
   ]
  },
  {
   "cell_type": "code",
   "execution_count": 22,
   "metadata": {},
   "outputs": [],
   "source": [
    "def cosine_similarity(vec1, vec2):\n",
    "    return 1-cosine(vec1, vec2)"
   ]
  },
  {
   "cell_type": "code",
   "execution_count": 41,
   "metadata": {},
   "outputs": [],
   "source": [
    "def find_top_matches(new_user,anime_df= anime_df,user_df= user_df,anime_dict= anime_dict):\n",
    "    new_user_anime_ids = [anime_dict[name] for name in new_user]\n",
    "    closest_users = set(find_closest_by_intersection(user_df, new_user_anime_ids))\n",
    "    anime_list = set(anime_df['MAL_ID'])\n",
    "    anime_set = set()\n",
    "\n",
    "    for _,row in user_df.iterrows():\n",
    "        if row['user_id'] in  closest_users:\n",
    "            anime_ids = row['anime_id']\n",
    "            for anime in anime_ids:\n",
    "                if anime in anime_list:\n",
    "                    anime_set.add(anime)\n",
    "    \n",
    "    embeddings_to_search = anime_df[anime_df['MAL_ID'].isin(anime_set)]\n",
    "    embeddings_to_search = embeddings_to_search[~embeddings_to_search['MAL_ID'].isin(new_user_anime_ids)]\n",
    "    embeddings_to_search['anime_embedding'] = embeddings_to_search['anime_embedding'].apply(lambda x: [float(i) for i in x])\n",
    "\n",
    "    anime_df['anime_embedding'] = anime_df['anime_embedding'].apply(lambda x: [float(i) for i in x])\n",
    "    new_user_set = set(new_user_anime_ids)\n",
    "    new_user_embed=[]\n",
    "    for _,row in anime_df.iterrows():\n",
    "        if row['MAL_ID'] in new_user_set:\n",
    "            new_user_embed.append(row['anime_embedding'])\n",
    "\n",
    "    new_user_embed = np.array(new_user_embed)\n",
    "    new_user_embed = new_user_embed.mean(axis=0)\n",
    "\n",
    "    que = PriorityQueue(maxsize=20)\n",
    "    for _,row in embeddings_to_search.iterrows():\n",
    "        similarity = cosine_similarity(row['anime_embedding'],new_user_embed)\n",
    "        if que.full():\n",
    "            que.get()\n",
    "        que.put((similarity,row['Name']))\n",
    "    \n",
    "    return que"
   ]
  },
  {
   "cell_type": "code",
   "execution_count": 47,
   "metadata": {},
   "outputs": [
    {
     "name": "stdout",
     "output_type": "stream",
     "text": [
      "Running on local URL:  http://127.0.0.1:7868\n",
      "\n",
      "To create a public link, set `share=True` in `launch()`.\n"
     ]
    },
    {
     "data": {
      "text/html": [
       "<div><iframe src=\"http://127.0.0.1:7868/\" width=\"100%\" height=\"500\" allow=\"autoplay; camera; microphone; clipboard-read; clipboard-write;\" frameborder=\"0\" allowfullscreen></iframe></div>"
      ],
      "text/plain": [
       "<IPython.core.display.HTML object>"
      ]
     },
     "metadata": {},
     "output_type": "display_data"
    },
    {
     "data": {
      "text/plain": []
     },
     "execution_count": 47,
     "metadata": {},
     "output_type": "execute_result"
    }
   ],
   "source": [
    "dropdown_choices=anime_df['Name'].tolist()\n",
    "\n",
    "def process_choice(choice):\n",
    "    ans = find_top_matches(choice)\n",
    "    suggestions=[]\n",
    "    while ans.empty() == False:\n",
    "        suggestions.append(ans.get()[1])\n",
    "    return f\"{suggestions}\"\n",
    "\n",
    "demo = gr.Interface(\n",
    "    fn=process_choice,\n",
    "    inputs=gr.Dropdown(choices=dropdown_choices, multiselect=True, label='Select your Watched animes'),\n",
    "    outputs=gr.Textbox(label='Output'),\n",
    ")\n",
    "\n",
    "demo.launch()\n"
   ]
  }
 ],
 "metadata": {
  "kernelspec": {
   "display_name": "Python 3",
   "language": "python",
   "name": "python3"
  },
  "language_info": {
   "codemirror_mode": {
    "name": "ipython",
    "version": 3
   },
   "file_extension": ".py",
   "mimetype": "text/x-python",
   "name": "python",
   "nbconvert_exporter": "python",
   "pygments_lexer": "ipython3",
   "version": "3.11.5"
  }
 },
 "nbformat": 4,
 "nbformat_minor": 2
}
