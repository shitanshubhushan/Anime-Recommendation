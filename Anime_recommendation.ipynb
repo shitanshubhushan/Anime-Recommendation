{
 "cells": [
  {
   "cell_type": "code",
   "execution_count": 1,
   "metadata": {},
   "outputs": [],
   "source": [
    "import numpy as np\n",
    "import pandas as pd\n",
    "import matplotlib.pyplot as plt\n",
    "from sentence_transformers import SentenceTransformer\n",
    "import pickle \n",
    "\n",
    "from IPython.display import clear_output\n",
    "clear_output(wait=False)"
   ]
  },
  {
   "cell_type": "code",
   "execution_count": 2,
   "metadata": {},
   "outputs": [],
   "source": [
    "anime_df = pd.read_csv(\"//Users/shitanshubhushan/Documents/Anime Recommendation/data/anime_with_synopsis.csv\")\n",
    "user_df = pd.read_csv(\"/Users/shitanshubhushan/Documents/Anime Recommendation/data/animelist.csv\")"
   ]
  },
  {
   "cell_type": "markdown",
   "metadata": {},
   "source": [
    "## Anime"
   ]
  },
  {
   "cell_type": "markdown",
   "metadata": {},
   "source": [
    "### Drop Animes with no Synopsis"
   ]
  },
  {
   "cell_type": "code",
   "execution_count": 3,
   "metadata": {},
   "outputs": [],
   "source": [
    "MAL_ID_todrop = set(anime_df[anime_df['sypnopsis'].isna()]['MAL_ID'].reset_index(drop=True))\n",
    "anime_df = anime_df[~anime_df['MAL_ID'].isin(MAL_ID_todrop)]"
   ]
  },
  {
   "cell_type": "markdown",
   "metadata": {},
   "source": [
    "### Embed all synopsis"
   ]
  },
  {
   "cell_type": "code",
   "execution_count": 4,
   "metadata": {},
   "outputs": [],
   "source": [
    "embed = []\n",
    "MAL_ID = []\n",
    "\n",
    "model = SentenceTransformer('paraphrase-MiniLM-L6-v2')\n",
    "clear_output(wait=False)\n",
    "\n",
    "for index, row in anime_df.iterrows():\n",
    "    embed.append(model.encode(row['sypnopsis']))\n",
    "    MAL_ID.append(row['MAL_ID'])\n",
    "\n",
    "    clear_output(wait=False)\n",
    "\n",
    "embed_df = pd.DataFrame({'Synopsis_embed': embed,\n",
    "                         'MAL_ID':MAL_ID\n",
    "                        })\n",
    "\n",
    "anime_df = anime_df.merge(embed_df, left_on='MAL_ID', right_on='MAL_ID')"
   ]
  },
  {
   "cell_type": "markdown",
   "metadata": {},
   "source": [
    "### Genre Embedding"
   ]
  },
  {
   "cell_type": "code",
   "execution_count": 5,
   "metadata": {},
   "outputs": [],
   "source": [
    "genres = set()\n",
    "\n",
    "for index, row in anime_df.iterrows():\n",
    "    genres.update(row['Genres'].split(\",\"))\n",
    "\n",
    "genre_df = pd.DataFrame(0, index=np.arange(anime_df.shape[0]), columns=list(genres))\n",
    "\n",
    "for index, row in anime_df.iterrows():\n",
    "    anime_genres = row['Genres'].split(\",\")\n",
    "    for genre in anime_genres:\n",
    "        genre_df.loc[index, genre]=1\n",
    "\n",
    "genre_df = genre_df.astype(str)\n",
    "genre_embed_df = pd.DataFrame({'Genre_embed':genre_df.apply(lambda row: np.asarray(row.values.tolist()), axis=1),\n",
    "                               'MAL_ID': MAL_ID})\n",
    "\n",
    "anime_df = anime_df.merge(genre_embed_df, left_on='MAL_ID', right_on='MAL_ID')"
   ]
  },
  {
   "cell_type": "markdown",
   "metadata": {},
   "source": [
    "### Score Embedding"
   ]
  },
  {
   "cell_type": "code",
   "execution_count": 6,
   "metadata": {},
   "outputs": [],
   "source": [
    "anime_score_median = anime_df['Score'].replace('Unknown',0).astype(float).median()\n",
    "anime_df['Score'] = anime_df['Score'].replace('Unknown',anime_score_median).astype(float)\n",
    "anime_df['Score_embed'] = anime_df['Score']/10\n",
    "anime_df.drop(columns=['Score','Genres','sypnopsis'],inplace=True)"
   ]
  },
  {
   "cell_type": "markdown",
   "metadata": {},
   "source": [
    "### Cumulative Embedding"
   ]
  },
  {
   "cell_type": "code",
   "execution_count": 7,
   "metadata": {},
   "outputs": [],
   "source": [
    "#anime_df['anime_embedding'] = anime_df.apply(lambda row: np.append(np.concatenate((row['Synopsis_embed'],\n",
    "#                                                     row['Genre_embed'])),row['Score_embed']), axis=1)\n",
    "anime_df['anime_embedding'] = anime_df['Synopsis_embed']\n",
    "anime_df.drop(columns=['Score_embed','Genre_embed','Synopsis_embed'],inplace=True)"
   ]
  },
  {
   "cell_type": "markdown",
   "metadata": {},
   "source": [
    "### Saving Stuff"
   ]
  },
  {
   "cell_type": "code",
   "execution_count": 8,
   "metadata": {},
   "outputs": [],
   "source": [
    "with open('output/anime_df.pkl', 'wb') as f:\n",
    "    pickle.dump(anime_df, f)"
   ]
  },
  {
   "cell_type": "code",
   "execution_count": 9,
   "metadata": {},
   "outputs": [],
   "source": [
    "anime_dict = anime_df.set_index('Name')['MAL_ID'].to_dict()\n",
    "with open('output/anime_name_dict.pkl', 'wb') as f:\n",
    "    pickle.dump(anime_dict, f)"
   ]
  },
  {
   "cell_type": "markdown",
   "metadata": {},
   "source": [
    "## User Grouping"
   ]
  },
  {
   "cell_type": "code",
   "execution_count": 10,
   "metadata": {},
   "outputs": [],
   "source": [
    "user_df = user_df[(user_df['watching_status']==1) | (user_df['watching_status']==2) | (user_df['watching_status']==3)]\n",
    "user_df = user_df[user_df['rating']>=7]\n",
    "user_df.drop(columns=['watched_episodes','watching_status','rating'],inplace=True)\n",
    "u = user_df.groupby(\"user_id\")[\"anime_id\"].agg(list).reset_index()"
   ]
  },
  {
   "cell_type": "code",
   "execution_count": 11,
   "metadata": {},
   "outputs": [],
   "source": [
    "with open('output/user_df.pkl', 'wb') as f:\n",
    "    pickle.dump(u, f)"
   ]
  }
 ],
 "metadata": {
  "kernelspec": {
   "display_name": "Python 3",
   "language": "python",
   "name": "python3"
  },
  "language_info": {
   "codemirror_mode": {
    "name": "ipython",
    "version": 3
   },
   "file_extension": ".py",
   "mimetype": "text/x-python",
   "name": "python",
   "nbconvert_exporter": "python",
   "pygments_lexer": "ipython3",
   "version": "3.11.5"
  }
 },
 "nbformat": 4,
 "nbformat_minor": 2
}
